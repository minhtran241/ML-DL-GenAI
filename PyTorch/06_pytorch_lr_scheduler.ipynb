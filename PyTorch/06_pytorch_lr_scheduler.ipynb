{
 "cells": [
  {
   "cell_type": "code",
   "execution_count": 21,
   "metadata": {},
   "outputs": [],
   "source": [
    "import torch\n",
    "import torch.nn as nn\n",
    "import torch.optim.lr_scheduler as lr_scheduler"
   ]
  },
  {
   "cell_type": "code",
   "execution_count": 22,
   "metadata": {},
   "outputs": [],
   "source": [
    "model = nn.Linear(10, 1)\n",
    "lr1 = 0.1\n",
    "optimizer1 = torch.optim.Adam(model.parameters(), lr=lr1)"
   ]
  },
  {
   "cell_type": "code",
   "execution_count": 23,
   "metadata": {},
   "outputs": [
    {
     "data": {
      "text/plain": [
       "{'state': {},\n",
       " 'param_groups': [{'lr': 0.0,\n",
       "   'betas': (0.9, 0.999),\n",
       "   'eps': 1e-08,\n",
       "   'weight_decay': 0,\n",
       "   'amsgrad': False,\n",
       "   'maximize': False,\n",
       "   'foreach': None,\n",
       "   'capturable': False,\n",
       "   'differentiable': False,\n",
       "   'fused': None,\n",
       "   'initial_lr': 0.1,\n",
       "   'params': [0, 1]}]}"
      ]
     },
     "execution_count": 23,
     "metadata": {},
     "output_type": "execute_result"
    }
   ],
   "source": [
    "lambda1 = lambda epoch: epoch / 10\n",
    "scheduler = lr_scheduler.LambdaLR(optimizer1, lr_lambda=[lambda1])\n",
    "optimizer1.state_dict()"
   ]
  },
  {
   "cell_type": "code",
   "execution_count": 24,
   "metadata": {},
   "outputs": [
    {
     "name": "stdout",
     "output_type": "stream",
     "text": [
      "0.010000000000000002\n",
      "0.020000000000000004\n",
      "0.03\n",
      "0.04000000000000001\n",
      "0.05\n"
     ]
    }
   ],
   "source": [
    "for epoch in range(5):\n",
    "    optimizer1.step()\n",
    "    scheduler.step()\n",
    "    print(optimizer1.param_groups[0][\"lr\"])"
   ]
  },
  {
   "cell_type": "code",
   "execution_count": 25,
   "metadata": {},
   "outputs": [],
   "source": [
    "lr2 = 0.1\n",
    "lambda2 = lambda epoch: 0.95\n",
    "optimizer2 = torch.optim.Adam(model.parameters(), lr=lr1)\n",
    "scheduler = lr_scheduler.MultiplicativeLR(optimizer2, lr_lambda=[lambda2])"
   ]
  },
  {
   "cell_type": "code",
   "execution_count": 26,
   "metadata": {},
   "outputs": [
    {
     "name": "stdout",
     "output_type": "stream",
     "text": [
      "0.095\n",
      "0.09025\n",
      "0.0857375\n",
      "0.08145062499999998\n",
      "0.07737809374999999\n"
     ]
    }
   ],
   "source": [
    "for epoch in range(5):\n",
    "    optimizer2.step()\n",
    "    scheduler.step()\n",
    "    print(optimizer2.param_groups[0][\"lr\"])"
   ]
  }
 ],
 "metadata": {
  "kernelspec": {
   "display_name": "Python 3",
   "language": "python",
   "name": "python3"
  },
  "language_info": {
   "codemirror_mode": {
    "name": "ipython",
    "version": 3
   },
   "file_extension": ".py",
   "mimetype": "text/x-python",
   "name": "python",
   "nbconvert_exporter": "python",
   "pygments_lexer": "ipython3",
   "version": "3.11.0"
  }
 },
 "nbformat": 4,
 "nbformat_minor": 2
}
