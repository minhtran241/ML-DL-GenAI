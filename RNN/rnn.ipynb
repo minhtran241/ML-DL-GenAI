{
 "cells": [
  {
   "cell_type": "code",
   "execution_count": 25,
   "metadata": {},
   "outputs": [],
   "source": [
    "import torch\n",
    "import torch.nn as nn\n",
    "import matplotlib.pyplot as plt\n",
    "from torch.utils.tensorboard import SummaryWriter\n",
    "import torchvision\n",
    "from torchvision import transforms\n",
    "\n",
    "from utils import ALL_LETTERS, N_LETTERS\n",
    "from utils import load_data, letter_to_tensor, line_to_tensor, random_training_example"
   ]
  },
  {
   "cell_type": "code",
   "execution_count": 26,
   "metadata": {},
   "outputs": [
    {
     "data": {
      "text/plain": [
       "device(type='mps')"
      ]
     },
     "execution_count": 26,
     "metadata": {},
     "output_type": "execute_result"
    }
   ],
   "source": [
    "writer = SummaryWriter(log_dir=\"../runs/char_rnn\")\n",
    "writer.add_text(\"alphabet\", ALL_LETTERS)\n",
    "device = torch.device(\"mps\")\n",
    "device"
   ]
  },
  {
   "cell_type": "code",
   "execution_count": 27,
   "metadata": {},
   "outputs": [],
   "source": [
    "class RNN(nn.Module):\n",
    "    def __init__(self, input_size: int, hidden_size: int, output_size: int):\n",
    "        super(RNN, self).__init__()\n",
    "\n",
    "        self.hidden_size = hidden_size\n",
    "        self.i2h = nn.Linear(input_size + hidden_size, hidden_size)\n",
    "        self.i2o = nn.Linear(input_size + hidden_size, output_size)\n",
    "        self.softmax = nn.LogSoftmax(dim=1)\n",
    "\n",
    "    def forward(self, input_tensor, hidden_tensor):\n",
    "        combined = torch.cat((input_tensor, hidden_tensor), 1)\n",
    "        hidden = self.i2h(combined)\n",
    "        output = self.i2o(combined)\n",
    "        output = self.softmax(output)\n",
    "        return output, hidden\n",
    "\n",
    "    def init_hidden(self):\n",
    "        return torch.zeros(1, self.hidden_size)"
   ]
  },
  {
   "cell_type": "code",
   "execution_count": 28,
   "metadata": {},
   "outputs": [
    {
     "data": {
      "text/plain": [
       "(torch.Size([1, 18]), torch.Size([1, 128]))"
      ]
     },
     "execution_count": 28,
     "metadata": {},
     "output_type": "execute_result"
    }
   ],
   "source": [
    "category_lines, all_categories = load_data()\n",
    "n_categories = len(all_categories)\n",
    "n_hidden = 128\n",
    "rnn = RNN(N_LETTERS, n_hidden, n_categories)\n",
    "writer.add_graph(rnn, input_to_model=(letter_to_tensor(\"A\"), rnn.init_hidden()))\n",
    "\n",
    "# One step\n",
    "input_tensor = letter_to_tensor(\"A\")\n",
    "hidden_tensor = rnn.init_hidden()\n",
    "output, next_hidden = rnn(input_tensor, hidden_tensor)\n",
    "output.size(), next_hidden.size()"
   ]
  },
  {
   "cell_type": "code",
   "execution_count": 29,
   "metadata": {},
   "outputs": [
    {
     "data": {
      "text/plain": [
       "(torch.Size([1, 18]), torch.Size([1, 128]))"
      ]
     },
     "execution_count": 29,
     "metadata": {},
     "output_type": "execute_result"
    }
   ],
   "source": [
    "# Whole sequence/name/line\n",
    "input_tensor = line_to_tensor(\"Albert\")\n",
    "hidden_tensor = rnn.init_hidden()\n",
    "output, next_hidden = rnn(input_tensor[0], hidden_tensor)\n",
    "output.size(), next_hidden.size()"
   ]
  },
  {
   "cell_type": "code",
   "execution_count": 30,
   "metadata": {},
   "outputs": [
    {
     "data": {
      "text/plain": [
       "'Czech'"
      ]
     },
     "execution_count": 30,
     "metadata": {},
     "output_type": "execute_result"
    }
   ],
   "source": [
    "def category_from_output(output):\n",
    "    category_idx = torch.argmax(output).item()\n",
    "    return all_categories[category_idx]\n",
    "\n",
    "\n",
    "category_from_output(output)"
   ]
  },
  {
   "cell_type": "code",
   "execution_count": 31,
   "metadata": {},
   "outputs": [],
   "source": [
    "criteria = nn.NLLLoss()  # Negative Log Likelihood Loss\n",
    "learning_rate = 0.005\n",
    "optimizer = torch.optim.SGD(rnn.parameters(), lr=learning_rate)"
   ]
  },
  {
   "cell_type": "code",
   "execution_count": 32,
   "metadata": {},
   "outputs": [],
   "source": [
    "def train(line_tensor: torch.Tensor, category_tensor: torch.Tensor) -> tuple:\n",
    "    hidden = rnn.init_hidden()\n",
    "\n",
    "    for i in range(line_tensor.size()[0]):\n",
    "        output, hidden = rnn(line_tensor[i], hidden)\n",
    "\n",
    "    loss = criteria(output, category_tensor)\n",
    "    optimizer.zero_grad()\n",
    "    loss.backward()\n",
    "    optimizer.step()\n",
    "\n",
    "    return output, loss.item()"
   ]
  },
  {
   "cell_type": "code",
   "execution_count": 33,
   "metadata": {},
   "outputs": [
    {
     "name": "stdout",
     "output_type": "stream",
     "text": [
      "4999 4.999 0.7736 Protopsaltis / Greek CORRECT\n",
      "9999 9.998999999999999 2.0802 Aller / German WRONG (Dutch)\n",
      "14999 14.999 2.2047 Abano / Italian WRONG (Spanish)\n",
      "19999 19.999 3.7430 Botros / Greek WRONG (Arabic)\n",
      "24999 24.999 1.0852 Maclean / Scottish CORRECT\n",
      "29999 29.999 1.7998 Raskoph / German CORRECT\n",
      "34999 34.999 0.5113 Chijov / Russian CORRECT\n",
      "39999 39.999 2.6085 Frei / Spanish WRONG (German)\n",
      "44999 44.999 1.5400 Won / Korean WRONG (Chinese)\n",
      "49999 49.999 0.7438 Nie / Chinese CORRECT\n",
      "54999 54.998999999999995 2.2599 Siekert / Dutch WRONG (German)\n",
      "59999 59.999 0.2723 Doan / Vietnamese CORRECT\n",
      "64999 64.999 0.5488 Mccallum / Scottish CORRECT\n",
      "69999 69.999 0.7356 Murray / Scottish CORRECT\n",
      "74999 74.99900000000001 0.4215 Martinez / Spanish CORRECT\n",
      "79999 79.999 0.5983 Oppenheimer / German CORRECT\n",
      "84999 84.999 3.1757 Hoffmann / Scottish WRONG (German)\n",
      "89999 89.999 0.5131 Hazov / Russian CORRECT\n",
      "94999 94.999 0.0423 Missiakos / Greek CORRECT\n",
      "99999 99.99900000000001 1.5615 Ding / Vietnamese WRONG (Chinese)\n"
     ]
    }
   ],
   "source": [
    "current_loss = 0\n",
    "all_losses = []\n",
    "plot_steps, print_steps = 1000, 5000\n",
    "n_iters = 100000\n",
    "\n",
    "for i in range(n_iters):\n",
    "    category, line, category_tensor, line_tensor = random_training_example(\n",
    "        category_lines, all_categories\n",
    "    )\n",
    "    output, loss = train(line_tensor, category_tensor)\n",
    "    current_loss += loss\n",
    "    writer.add_scalar(\"loss\", loss, i)\n",
    "\n",
    "    if (i + 1) % plot_steps == 0:\n",
    "        all_losses.append(current_loss / plot_steps)\n",
    "        current_loss = 0\n",
    "\n",
    "    if (i + 1) % print_steps == 0:\n",
    "        guess = category_from_output(output)\n",
    "        correct = \"CORRECT\" if guess == category else f\"WRONG ({category})\"\n",
    "        print(f\"{i} {i / n_iters * 100} {loss:.4f} {line} / {guess} {correct}\")"
   ]
  },
  {
   "cell_type": "code",
   "execution_count": 34,
   "metadata": {},
   "outputs": [
    {
     "data": {
      "image/png": "[encoded data removed]",
      "text/plain": [
       "<Figure size 640x480 with 1 Axes>"
      ]
     },
     "metadata": {},
     "output_type": "display_data"
    }
   ],
   "source": [
    "plt.figure()\n",
    "plt.plot(all_losses)\n",
    "plt.xlabel(\"Iteration\")\n",
    "plt.ylabel(\"Loss\")\n",
    "plt.title(\"Loss during training\")\n",
    "plt.show()"
   ]
  },
  {
   "cell_type": "code",
   "execution_count": 35,
   "metadata": {},
   "outputs": [
    {
     "name": "stdout",
     "output_type": "stream",
     "text": [
      "\n",
      "> Tran\n",
      "Vietnamese\n"
     ]
    }
   ],
   "source": [
    "def predict(input_line: str):\n",
    "    print(f\"\\n> {input_line}\")\n",
    "    with torch.inference_mode():\n",
    "        line_tensor = line_to_tensor(input_line)\n",
    "        hidden = rnn.init_hidden()\n",
    "\n",
    "        for i in range(line_tensor.size()[0]):\n",
    "            output, hidden = rnn(line_tensor[i], hidden)\n",
    "\n",
    "        guess = category_from_output(output)\n",
    "        print(guess)\n",
    "\n",
    "\n",
    "predict(\"Tran\")"
   ]
  },
  {
   "cell_type": "code",
   "execution_count": 36,
   "metadata": {},
   "outputs": [],
   "source": [
    "# Hyperparameters\n",
    "# input_size = 784  # 28x28\n",
    "hidden_size = 128\n",
    "num_classes = 10\n",
    "num_epochs = 2\n",
    "batch_size = 100\n",
    "learning_rate = 0.001\n",
    "\n",
    "input_size = 28\n",
    "sequence_length = 28\n",
    "num_layers = 2"
   ]
  },
  {
   "cell_type": "code",
   "execution_count": 37,
   "metadata": {},
   "outputs": [],
   "source": [
    "# MNIST dataset\n",
    "train_dataset = torchvision.datasets.MNIST(\n",
    "    root=\"../data\", train=True, transform=transforms.ToTensor(), download=True\n",
    ")\n",
    "train_loader = torch.utils.data.DataLoader(\n",
    "    dataset=train_dataset, batch_size=batch_size, shuffle=True\n",
    ")\n",
    "\n",
    "test_dataset = torchvision.datasets.MNIST(\n",
    "    root=\"../data\", train=False, transform=transforms.ToTensor()\n",
    ")\n",
    "test_loader = torch.utils.data.DataLoader(\n",
    "    dataset=test_dataset, batch_size=batch_size, shuffle=False\n",
    ")"
   ]
  },
  {
   "cell_type": "code",
   "execution_count": 67,
   "metadata": {},
   "outputs": [],
   "source": [
    "class RNN2(nn.Module):\n",
    "    def __init__(self, input_size, hidden_size, num_layers, num_classes):\n",
    "        super(RNN2, self).__init__()\n",
    "        # Input size = 28 -> 28 pixels in each row\n",
    "        self.hidden_size = hidden_size  # 128 neurons in hidden layer\n",
    "        self.num_layers = num_layers  # 2 layers in RNN\n",
    "        self.rnn = nn.RNN(input_size, hidden_size, num_layers, batch_first=True)\n",
    "        self.gru = nn.GRU(input_size, hidden_size, num_layers, batch_first=True)\n",
    "        self.lstm = nn.LSTM(input_size, hidden_size, num_layers, batch_first=True)\n",
    "        # x -> (batch_size, seq, input_size) -> (100, 28, 28)\n",
    "        self.fc = nn.Linear(hidden_size, num_classes)\n",
    "\n",
    "    def forward(self, x):\n",
    "        h0 = torch.zeros(self.num_layers, x.size(0), self.hidden_size).to(device)\n",
    "        # h0 -> (num_layers, batch, hidden_size) -> (2, 100, 128) -> 2 tensors of 100x128 each. 100 rows and 128 columns\n",
    "        c0 = torch.zeros(self.num_layers, x.size(0), self.hidden_size).to(\n",
    "            device\n",
    "        )  # Cell state for LSTM\n",
    "        # out, _ = self.rnn(x, h0)\n",
    "        # out, _ = self.gru(x, h0)\n",
    "        out, _ = self.lstm(x, (h0, c0))\n",
    "        # out: (batch_size, seq_length, hidden_size)\n",
    "        # out (100, 28, 128)\n",
    "        out = out[:, -1, :]  # (100, 128)\n",
    "        out = self.fc(out)\n",
    "        return out"
   ]
  },
  {
   "cell_type": "code",
   "execution_count": 68,
   "metadata": {},
   "outputs": [
    {
     "name": "stdout",
     "output_type": "stream",
     "text": [
      "Epoch 1/2, Step 100/600, Loss = 0.7211\n",
      "Epoch 1/2, Step 200/600, Loss = 0.4394\n",
      "Epoch 1/2, Step 300/600, Loss = 0.2652\n",
      "Epoch 1/2, Step 400/600, Loss = 0.2366\n",
      "Epoch 1/2, Step 500/600, Loss = 0.3062\n",
      "Epoch 1/2, Step 600/600, Loss = 0.2429\n",
      "Epoch 2/2, Step 100/600, Loss = 0.0942\n",
      "Epoch 2/2, Step 200/600, Loss = 0.0376\n",
      "Epoch 2/2, Step 300/600, Loss = 0.1640\n",
      "Epoch 2/2, Step 400/600, Loss = 0.0634\n",
      "Epoch 2/2, Step 500/600, Loss = 0.1077\n",
      "Epoch 2/2, Step 600/600, Loss = 0.1335\n"
     ]
    }
   ],
   "source": [
    "rnn2 = RNN2(input_size, hidden_size, num_layers, num_classes).to(device)\n",
    "\n",
    "# Loss and optimizer\n",
    "criteria = nn.CrossEntropyLoss()\n",
    "optimizer = torch.optim.Adam(rnn2.parameters(), lr=learning_rate)\n",
    "\n",
    "# Train the model\n",
    "rnn2.train()\n",
    "n_total_steps = len(train_loader)\n",
    "for epoch in range(num_epochs):\n",
    "    for i, (images, labels) in enumerate(train_loader):\n",
    "        # Original shape: [100, 1, 28, 28]: 100 images, 1 channel, 28x28 -> [100, 28, 28]\n",
    "        images = images.reshape(-1, sequence_length, input_size).to(device)\n",
    "        labels = labels.to(device)\n",
    "\n",
    "        # Forward pass\n",
    "        outputs = rnn2(images)\n",
    "        loss = criteria(outputs, labels)\n",
    "\n",
    "        # Backward pass\n",
    "        optimizer.zero_grad()\n",
    "        loss.backward()\n",
    "        optimizer.step()\n",
    "\n",
    "        if (i + 1) % 100 == 0:\n",
    "            print(\n",
    "                f\"Epoch {epoch+1}/{num_epochs}, Step {i+1}/{n_total_steps}, Loss = {loss.item():.4f}\"\n",
    "            )"
   ]
  },
  {
   "cell_type": "code",
   "execution_count": 73,
   "metadata": {},
   "outputs": [
    {
     "data": {
      "text/plain": [
       "==========================================================================================\n",
       "Layer (type:depth-idx)                   Output Shape              Param #\n",
       "==========================================================================================\n",
       "RNN2                                     [1, 10]                   212,992\n",
       "├─LSTM: 1-1                              [1, 28, 128]              212,992\n",
       "├─Linear: 1-2                            [1, 10]                   1,290\n",
       "==========================================================================================\n",
       "Total params: 427,274\n",
       "Trainable params: 427,274\n",
       "Non-trainable params: 0\n",
       "Total mult-adds (Units.MEGABYTES): 5.97\n",
       "==========================================================================================\n",
       "Input size (MB): 0.00\n",
       "Forward/backward pass size (MB): 0.03\n",
       "Params size (MB): 0.86\n",
       "Estimated Total Size (MB): 0.89\n",
       "=========================================================================================="
      ]
     },
     "execution_count": 73,
     "metadata": {},
     "output_type": "execute_result"
    }
   ],
   "source": [
    "from torchinfo import summary\n",
    "\n",
    "# Make sure to set the device to cuda\n",
    "sample = torch.rand(1, 28, 28).to(device)\n",
    "writer.add_graph(rnn2, input_to_model=sample)\n",
    "writer.close()\n",
    "summary(rnn2, input_data=sample)"
   ]
  },
  {
   "cell_type": "code",
   "execution_count": 70,
   "metadata": {},
   "outputs": [
    {
     "name": "stdout",
     "output_type": "stream",
     "text": [
      "Accuracy = 97.46\n"
     ]
    }
   ],
   "source": [
    "# Test the model\n",
    "rnn2.eval()\n",
    "with torch.inference_mode():\n",
    "    n_correct = 0\n",
    "    n_samples = 0\n",
    "\n",
    "    for images, labels in test_loader:\n",
    "        images = images.reshape(-1, sequence_length, input_size).to(device)\n",
    "        labels = labels.to(device)\n",
    "        outputs = rnn2(images)\n",
    "\n",
    "        # max returns (value, index)\n",
    "        _, predicted = torch.max(outputs, 1)\n",
    "        n_samples += labels.size(0)\n",
    "        n_correct += (predicted == labels).sum().item()\n",
    "\n",
    "    acc = 100.0 * n_correct / n_samples\n",
    "    print(f\"Accuracy = {acc}\")"
   ]
  }
 ],
 "metadata": {
  "kernelspec": {
   "display_name": "Python 3",
   "language": "python",
   "name": "python3"
  },
  "language_info": {
   "codemirror_mode": {
    "name": "ipython",
    "version": 3
   },
   "file_extension": ".py",
   "mimetype": "text/x-python",
   "name": "python",
   "nbconvert_exporter": "python",
   "pygments_lexer": "ipython3",
   "version": "3.11.0"
  }
 },
 "nbformat": 4,
 "nbformat_minor": 2
}
