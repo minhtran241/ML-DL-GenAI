{
 "cells": [
  {
   "cell_type": "markdown",
   "metadata": {},
   "source": [
    "# Natural Language Processing with RNNs - Toxic Comment Classification\n",
    "\n",
    "1. Download and explore the dataset\n",
    "2. Preprocess the data for training\n",
    "3. Build an RNN model\n",
    "4. Train and evaluate the model\n",
    "5. Make predictions & submission\n"
   ]
  },
  {
   "cell_type": "markdown",
   "metadata": {},
   "source": [
    "## Download and explore the dataset\n",
    "\n",
    "1. Download the dataset from [Kaggle](https://www.kaggle.com/c/jigsaw-toxic-comment-classification-challenge/data)\n",
    "2. Load data into a pandas DataFrame\n",
    "3. Explore the dataset\n"
   ]
  },
  {
   "cell_type": "code",
   "execution_count": 1,
   "metadata": {},
   "outputs": [
    {
     "name": "stdout",
     "output_type": "stream",
     "text": [
      "jigsaw-toxic-comment-classification-challenge.zip: Skipping, found more recently modified local copy (use --force to force download)\n"
     ]
    }
   ],
   "source": [
    "!kaggle competitions download -c jigsaw-toxic-comment-classification-challenge -p ../data"
   ]
  },
  {
   "cell_type": "code",
   "execution_count": 2,
   "metadata": {},
   "outputs": [],
   "source": [
    "DATA_DIR = \"../data/jigsaw-toxic-comment-classification-challenge\""
   ]
  },
  {
   "cell_type": "code",
   "execution_count": 3,
   "metadata": {},
   "outputs": [],
   "source": [
    "import pandas as pd"
   ]
  },
  {
   "cell_type": "code",
   "execution_count": 4,
   "metadata": {},
   "outputs": [],
   "source": [
    "raw_df = pd.read_csv(DATA_DIR + \"/train.csv.zip\")\n",
    "test_df = pd.read_csv(DATA_DIR + \"/test.csv.zip\")\n",
    "sub_df = pd.read_csv(DATA_DIR + \"/sample_submission.csv.zip\")"
   ]
  },
  {
   "cell_type": "code",
   "execution_count": 5,
   "metadata": {},
   "outputs": [
    {
     "name": "stdout",
     "output_type": "stream",
     "text": [
      "<class 'pandas.core.frame.DataFrame'>\n",
      "RangeIndex: 159571 entries, 0 to 159570\n",
      "Data columns (total 8 columns):\n",
      " #   Column         Non-Null Count   Dtype \n",
      "---  ------         --------------   ----- \n",
      " 0   id             159571 non-null  object\n",
      " 1   comment_text   159571 non-null  object\n",
      " 2   toxic          159571 non-null  int64 \n",
      " 3   severe_toxic   159571 non-null  int64 \n",
      " 4   obscene        159571 non-null  int64 \n",
      " 5   threat         159571 non-null  int64 \n",
      " 6   insult         159571 non-null  int64 \n",
      " 7   identity_hate  159571 non-null  int64 \n",
      "dtypes: int64(6), object(2)\n",
      "memory usage: 9.7+ MB\n"
     ]
    }
   ],
   "source": [
    "raw_df.info()"
   ]
  },
  {
   "cell_type": "code",
   "execution_count": 6,
   "metadata": {},
   "outputs": [
    {
     "data": {
      "text/html": [
       "<div>\n",
       "<style scoped>\n",
       "    .dataframe tbody tr th:only-of-type {\n",
       "        vertical-align: middle;\n",
       "    }\n",
       "\n",
       "    .dataframe tbody tr th {\n",
       "        vertical-align: top;\n",
       "    }\n",
       "\n",
       "    .dataframe thead th {\n",
       "        text-align: right;\n",
       "    }\n",
       "</style>\n",
       "<table border=\"1\" class=\"dataframe\">\n",
       "  <thead>\n",
       "    <tr style=\"text-align: right;\">\n",
       "      <th></th>\n",
       "      <th>id</th>\n",
       "      <th>comment_text</th>\n",
       "      <th>toxic</th>\n",
       "      <th>severe_toxic</th>\n",
       "      <th>obscene</th>\n",
       "      <th>threat</th>\n",
       "      <th>insult</th>\n",
       "      <th>identity_hate</th>\n",
       "    </tr>\n",
       "  </thead>\n",
       "  <tbody>\n",
       "    <tr>\n",
       "      <th>108526</th>\n",
       "      <td>442c32c7f8d98933</td>\n",
       "      <td>\"\\n\\nI have sent the following complaint to wi...</td>\n",
       "      <td>0</td>\n",
       "      <td>0</td>\n",
       "      <td>0</td>\n",
       "      <td>0</td>\n",
       "      <td>0</td>\n",
       "      <td>0</td>\n",
       "    </tr>\n",
       "    <tr>\n",
       "      <th>146373</th>\n",
       "      <td>2b3398651c2fb2ff</td>\n",
       "      <td>\"\\nAs Father C, my former parish priest would ...</td>\n",
       "      <td>0</td>\n",
       "      <td>0</td>\n",
       "      <td>0</td>\n",
       "      <td>0</td>\n",
       "      <td>0</td>\n",
       "      <td>0</td>\n",
       "    </tr>\n",
       "    <tr>\n",
       "      <th>26718</th>\n",
       "      <td>46d096e760e55d08</td>\n",
       "      <td>Not to mention, he's a nobody. He's his bigges...</td>\n",
       "      <td>0</td>\n",
       "      <td>0</td>\n",
       "      <td>0</td>\n",
       "      <td>0</td>\n",
       "      <td>0</td>\n",
       "      <td>0</td>\n",
       "    </tr>\n",
       "    <tr>\n",
       "      <th>51010</th>\n",
       "      <td>886d3d894af06673</td>\n",
       "      <td>August 2013 (UTC)\\n\\n Now about debunking such...</td>\n",
       "      <td>0</td>\n",
       "      <td>0</td>\n",
       "      <td>0</td>\n",
       "      <td>0</td>\n",
       "      <td>0</td>\n",
       "      <td>0</td>\n",
       "    </tr>\n",
       "    <tr>\n",
       "      <th>108936</th>\n",
       "      <td>4678847f7cbc4ae6</td>\n",
       "      <td>Appeal Again \\n\\n{{unblock==I would like to be...</td>\n",
       "      <td>0</td>\n",
       "      <td>0</td>\n",
       "      <td>0</td>\n",
       "      <td>0</td>\n",
       "      <td>0</td>\n",
       "      <td>0</td>\n",
       "    </tr>\n",
       "    <tr>\n",
       "      <th>116093</th>\n",
       "      <td>6cb96c2d03374709</td>\n",
       "      <td>Fine. But which ancient or medieval bridge had...</td>\n",
       "      <td>0</td>\n",
       "      <td>0</td>\n",
       "      <td>0</td>\n",
       "      <td>0</td>\n",
       "      <td>0</td>\n",
       "      <td>0</td>\n",
       "    </tr>\n",
       "    <tr>\n",
       "      <th>46725</th>\n",
       "      <td>7cdd8fc7847bead9</td>\n",
       "      <td>\"\\n\\nThis IP address is not static, and is the...</td>\n",
       "      <td>0</td>\n",
       "      <td>0</td>\n",
       "      <td>0</td>\n",
       "      <td>0</td>\n",
       "      <td>0</td>\n",
       "      <td>0</td>\n",
       "    </tr>\n",
       "    <tr>\n",
       "      <th>114784</th>\n",
       "      <td>65caadeb6926dc3b</td>\n",
       "      <td>\"\\n\\n INRConvert \\n\\n is the real architect be...</td>\n",
       "      <td>0</td>\n",
       "      <td>0</td>\n",
       "      <td>0</td>\n",
       "      <td>0</td>\n",
       "      <td>0</td>\n",
       "      <td>0</td>\n",
       "    </tr>\n",
       "    <tr>\n",
       "      <th>73665</th>\n",
       "      <td>c51f8d28a413e29b</td>\n",
       "      <td>I have lifted the autoblock.</td>\n",
       "      <td>0</td>\n",
       "      <td>0</td>\n",
       "      <td>0</td>\n",
       "      <td>0</td>\n",
       "      <td>0</td>\n",
       "      <td>0</td>\n",
       "    </tr>\n",
       "    <tr>\n",
       "      <th>67074</th>\n",
       "      <td>b3777f0e9d1aafae</td>\n",
       "      <td>a gentle warning \\n\\nBy now it should be evide...</td>\n",
       "      <td>0</td>\n",
       "      <td>0</td>\n",
       "      <td>0</td>\n",
       "      <td>0</td>\n",
       "      <td>0</td>\n",
       "      <td>0</td>\n",
       "    </tr>\n",
       "  </tbody>\n",
       "</table>\n",
       "</div>"
      ],
      "text/plain": [
       "                      id                                       comment_text  \\\n",
       "108526  442c32c7f8d98933  \"\\n\\nI have sent the following complaint to wi...   \n",
       "146373  2b3398651c2fb2ff  \"\\nAs Father C, my former parish priest would ...   \n",
       "26718   46d096e760e55d08  Not to mention, he's a nobody. He's his bigges...   \n",
       "51010   886d3d894af06673  August 2013 (UTC)\\n\\n Now about debunking such...   \n",
       "108936  4678847f7cbc4ae6  Appeal Again \\n\\n{{unblock==I would like to be...   \n",
       "116093  6cb96c2d03374709  Fine. But which ancient or medieval bridge had...   \n",
       "46725   7cdd8fc7847bead9  \"\\n\\nThis IP address is not static, and is the...   \n",
       "114784  65caadeb6926dc3b  \"\\n\\n INRConvert \\n\\n is the real architect be...   \n",
       "73665   c51f8d28a413e29b                       I have lifted the autoblock.   \n",
       "67074   b3777f0e9d1aafae  a gentle warning \\n\\nBy now it should be evide...   \n",
       "\n",
       "        toxic  severe_toxic  obscene  threat  insult  identity_hate  \n",
       "108526      0             0        0       0       0              0  \n",
       "146373      0             0        0       0       0              0  \n",
       "26718       0             0        0       0       0              0  \n",
       "51010       0             0        0       0       0              0  \n",
       "108936      0             0        0       0       0              0  \n",
       "116093      0             0        0       0       0              0  \n",
       "46725       0             0        0       0       0              0  \n",
       "114784      0             0        0       0       0              0  \n",
       "73665       0             0        0       0       0              0  \n",
       "67074       0             0        0       0       0              0  "
      ]
     },
     "execution_count": 6,
     "metadata": {},
     "output_type": "execute_result"
    }
   ],
   "source": [
    "raw_df.sample(10)"
   ]
  },
  {
   "cell_type": "code",
   "execution_count": 7,
   "metadata": {},
   "outputs": [],
   "source": [
    "target_cols = [\"toxic\", \"severe_toxic\", \"obscene\", \"threat\", \"insult\", \"identity_hate\"]"
   ]
  },
  {
   "cell_type": "code",
   "execution_count": 8,
   "metadata": {},
   "outputs": [
    {
     "name": "stdout",
     "output_type": "stream",
     "text": [
      "toxic\n",
      "0    0.904156\n",
      "1    0.095844\n",
      "Name: proportion, dtype: float64\n",
      "severe_toxic\n",
      "0    0.990004\n",
      "1    0.009996\n",
      "Name: proportion, dtype: float64\n",
      "obscene\n",
      "0    0.947052\n",
      "1    0.052948\n",
      "Name: proportion, dtype: float64\n",
      "threat\n",
      "0    0.997004\n",
      "1    0.002996\n",
      "Name: proportion, dtype: float64\n",
      "insult\n",
      "0    0.950636\n",
      "1    0.049364\n",
      "Name: proportion, dtype: float64\n",
      "identity_hate\n",
      "0    0.991195\n",
      "1    0.008805\n",
      "Name: proportion, dtype: float64\n"
     ]
    }
   ],
   "source": [
    "for col in target_cols:\n",
    "    print(raw_df[col].value_counts(normalize=True))"
   ]
  },
  {
   "cell_type": "code",
   "execution_count": 9,
   "metadata": {},
   "outputs": [],
   "source": [
    "from matplotlib import pyplot as plt"
   ]
  },
  {
   "cell_type": "code",
   "execution_count": 10,
   "metadata": {},
   "outputs": [
    {
     "data": {
      "image/png": "[encoded data removed]",
      "text/plain": [
       "<Figure size 2000x1000 with 6 Axes>"
      ]
     },
     "metadata": {},
     "output_type": "display_data"
    }
   ],
   "source": [
    "# Circle chart\n",
    "fig, ax = plt.subplots(2, 3, figsize=(20, 10))\n",
    "for i, col in enumerate(target_cols):\n",
    "    raw_df[col].value_counts(normalize=True).plot.pie(\n",
    "        autopct=\"%1.1f%%\", ax=ax[i // 3, i % 3], title=col\n",
    "    )\n",
    "plt.show()"
   ]
  },
  {
   "cell_type": "markdown",
   "metadata": {},
   "source": [
    "## Preprocess the Dataset for Training\n",
    "\n",
    "-   Create a vocabulary using TorchText\n",
    "-   Create training and validation datasets\n",
    "-   Create PyTorch DataLoader objects\n"
   ]
  },
  {
   "cell_type": "code",
   "execution_count": 13,
   "metadata": {},
   "outputs": [
    {
     "name": "stdout",
     "output_type": "stream",
     "text": [
      "Requirement already satisfied: pip in /Users/macbook/.local/lib/python3.11/site-packages (24.1.2)\n",
      "Collecting pip\n",
      "  Downloading pip-24.2-py3-none-any.whl.metadata (3.6 kB)\n",
      "Downloading pip-24.2-py3-none-any.whl (1.8 MB)\n",
      "\u001b[2K   \u001b[90m━━━━━━━━━━━━━━━━━━━━━━━━━━━━━━━━━━━━━━━━\u001b[0m \u001b[32m1.8/1.8 MB\u001b[0m \u001b[31m3.3 MB/s\u001b[0m eta \u001b[36m0:00:00\u001b[0ma \u001b[36m0:00:01\u001b[0m\n",
      "\u001b[?25hInstalling collected packages: pip\n",
      "  Attempting uninstall: pip\n",
      "    Found existing installation: pip 24.1.2\n",
      "    Uninstalling pip-24.1.2:\n",
      "      Successfully uninstalled pip-24.1.2\n",
      "Successfully installed pip-24.2\n",
      "Requirement already satisfied: torchtext in /Users/macbook/.local/lib/python3.11/site-packages (0.18.0)\n",
      "Requirement already satisfied: tqdm in /Users/macbook/.pyenv/versions/3.11.0/lib/python3.11/site-packages (from torchtext) (4.66.4)\n",
      "Requirement already satisfied: requests in /Users/macbook/.local/lib/python3.11/site-packages (from torchtext) (2.32.3)\n",
      "Requirement already satisfied: torch>=2.3.0 in /Users/macbook/.pyenv/versions/3.11.0/lib/python3.11/site-packages (from torchtext) (2.3.0)\n",
      "Requirement already satisfied: numpy in /Users/macbook/.pyenv/versions/3.11.0/lib/python3.11/site-packages (from torchtext) (1.26.4)\n",
      "Requirement already satisfied: filelock in /Users/macbook/.pyenv/versions/3.11.0/lib/python3.11/site-packages (from torch>=2.3.0->torchtext) (3.14.0)\n",
      "Requirement already satisfied: typing-extensions>=4.8.0 in /Users/macbook/.local/lib/python3.11/site-packages (from torch>=2.3.0->torchtext) (4.11.0)\n",
      "Requirement already satisfied: sympy in /Users/macbook/.pyenv/versions/3.11.0/lib/python3.11/site-packages (from torch>=2.3.0->torchtext) (1.12)\n",
      "Requirement already satisfied: networkx in /Users/macbook/.local/lib/python3.11/site-packages (from torch>=2.3.0->torchtext) (3.3)\n",
      "Requirement already satisfied: jinja2 in /Users/macbook/.pyenv/versions/3.11.0/lib/python3.11/site-packages (from torch>=2.3.0->torchtext) (3.1.4)\n",
      "Requirement already satisfied: fsspec in /Users/macbook/.local/lib/python3.11/site-packages (from torch>=2.3.0->torchtext) (2024.3.1)\n",
      "Requirement already satisfied: charset-normalizer<4,>=2 in /Users/macbook/.local/lib/python3.11/site-packages (from requests->torchtext) (3.3.2)\n",
      "Requirement already satisfied: idna<4,>=2.5 in /Users/macbook/.local/lib/python3.11/site-packages (from requests->torchtext) (3.7)\n",
      "Requirement already satisfied: urllib3<3,>=1.21.1 in /Users/macbook/.local/lib/python3.11/site-packages (from requests->torchtext) (2.2.1)\n",
      "Requirement already satisfied: certifi>=2017.4.17 in /Users/macbook/.local/lib/python3.11/site-packages (from requests->torchtext) (2024.2.2)\n",
      "Requirement already satisfied: MarkupSafe>=2.0 in /Users/macbook/.local/lib/python3.11/site-packages (from jinja2->torch>=2.3.0->torchtext) (2.1.5)\n",
      "Requirement already satisfied: mpmath>=0.19 in /Users/macbook/.local/lib/python3.11/site-packages (from sympy->torch>=2.3.0->torchtext) (1.3.0)\n"
     ]
    }
   ],
   "source": [
    "# install TorchText\n",
    "!pip install --upgrade pip\n",
    "!pip install torchtext"
   ]
  },
  {
   "cell_type": "code",
   "execution_count": 54,
   "metadata": {},
   "outputs": [],
   "source": [
    "import torch\n",
    "import torchtext\n",
    "\n",
    "torchtext.disable_torchtext_deprecation_warning()\n",
    "from torchtext.data import get_tokenizer"
   ]
  },
  {
   "cell_type": "code",
   "execution_count": 19,
   "metadata": {},
   "outputs": [],
   "source": [
    "tokenizer = get_tokenizer(tokenizer=\"basic_english\")"
   ]
  },
  {
   "cell_type": "code",
   "execution_count": 23,
   "metadata": {},
   "outputs": [
    {
     "data": {
      "text/plain": [
       "['explanation',\n",
       " 'why',\n",
       " 'the',\n",
       " 'edits',\n",
       " 'made',\n",
       " 'under',\n",
       " 'my',\n",
       " 'username',\n",
       " 'hardcore',\n",
       " 'metallica']"
      ]
     },
     "execution_count": 23,
     "metadata": {},
     "output_type": "execute_result"
    }
   ],
   "source": [
    "sample_comment = raw_df.comment_text.values[0]\n",
    "tokenizer(sample_comment)[:10]"
   ]
  },
  {
   "cell_type": "markdown",
   "metadata": {},
   "source": [
    "### Build vocabulary\n"
   ]
  },
  {
   "cell_type": "code",
   "execution_count": 26,
   "metadata": {},
   "outputs": [],
   "source": [
    "from torchtext.vocab import build_vocab_from_iterator"
   ]
  },
  {
   "cell_type": "code",
   "execution_count": 27,
   "metadata": {},
   "outputs": [],
   "source": [
    "VOCAB_SIZE = 1500"
   ]
  },
  {
   "cell_type": "code",
   "execution_count": 28,
   "metadata": {},
   "outputs": [],
   "source": [
    "# Special tokens\n",
    "# UNK: Unknown token, PAD: Padding token, BOS: Beginning of sentence token, EOS: End of sentence token\n",
    "UNK, PAD, BOS, EOS = \"<unk>\", \"<pad>\", \"<bos>\", \"<eos>\""
   ]
  },
  {
   "cell_type": "code",
   "execution_count": 29,
   "metadata": {},
   "outputs": [],
   "source": [
    "vocab = build_vocab_from_iterator(\n",
    "    map(tokenizer, raw_df.comment_text.values),\n",
    "    specials=[UNK, PAD, BOS, EOS],\n",
    "    max_tokens=VOCAB_SIZE,\n",
    ")"
   ]
  },
  {
   "cell_type": "code",
   "execution_count": 31,
   "metadata": {},
   "outputs": [],
   "source": [
    "vocab.set_default_index(vocab[UNK])"
   ]
  },
  {
   "cell_type": "code",
   "execution_count": 33,
   "metadata": {},
   "outputs": [
    {
     "data": {
      "text/plain": [
       "[669, 87, 5, 142, 144, 187, 41, 665, 0, 0]"
      ]
     },
     "execution_count": 33,
     "metadata": {},
     "output_type": "execute_result"
    }
   ],
   "source": [
    "sample_indices = vocab.lookup_indices(tokens=tokenizer(sample_comment))\n",
    "sample_indices[:10]"
   ]
  },
  {
   "cell_type": "code",
   "execution_count": 35,
   "metadata": {},
   "outputs": [
    {
     "data": {
      "text/plain": [
       "'explanation why the edits made under my username <unk> <unk>'"
      ]
     },
     "execution_count": 35,
     "metadata": {},
     "output_type": "execute_result"
    }
   ],
   "source": [
    "sample_comment_reconstructed = \" \".join(vocab.lookup_tokens(sample_indices[:10]))\n",
    "sample_comment_reconstructed"
   ]
  },
  {
   "cell_type": "markdown",
   "metadata": {},
   "source": [
    "### Create training and validation datasets\n",
    "\n",
    "-   Define a custom PyTorch Dataset\n",
    "-   Pass raw data into the Dataset\n",
    "-   Split the PyTorch Dataset\n"
   ]
  },
  {
   "cell_type": "code",
   "execution_count": 41,
   "metadata": {},
   "outputs": [
    {
     "data": {
      "text/plain": [
       "(4948, 1, 79.58488071140746)"
      ]
     },
     "execution_count": 41,
     "metadata": {},
     "output_type": "execute_result"
    }
   ],
   "source": [
    "comment_tokens = list(map(tokenizer, raw_df.comment_text.values))\n",
    "max_len = max(map(len, comment_tokens))\n",
    "min_len = min(map(len, comment_tokens))\n",
    "mean_len = sum(map(len, comment_tokens)) / len(comment_tokens)\n",
    "max_len, min_len, mean_len"
   ]
  },
  {
   "cell_type": "code",
   "execution_count": 47,
   "metadata": {},
   "outputs": [
    {
     "data": {
      "image/png": "[encoded data removed]",
      "text/plain": [
       "<Figure size 640x480 with 1 Axes>"
      ]
     },
     "metadata": {},
     "output_type": "display_data"
    }
   ],
   "source": [
    "plt.hist(list(map(len, comment_tokens)), bins=50)\n",
    "plt.show()"
   ]
  },
  {
   "cell_type": "code",
   "execution_count": 50,
   "metadata": {},
   "outputs": [],
   "source": [
    "MAX_LEN = 150"
   ]
  },
  {
   "cell_type": "code",
   "execution_count": 71,
   "metadata": {},
   "outputs": [],
   "source": [
    "# Function to pad tokens to MAX_LEN\n",
    "def pad_tokens(tokens):\n",
    "    if len(tokens) > MAX_LEN - 2:  # Account for BOS and EOS tokens\n",
    "        return tokens[: MAX_LEN - 2]\n",
    "    else:\n",
    "        return tokens + [vocab[PAD]] * (MAX_LEN - len(tokens) - 2)"
   ]
  },
  {
   "cell_type": "code",
   "execution_count": 72,
   "metadata": {},
   "outputs": [],
   "source": [
    "# BOS and EOS tokens\n",
    "def wrap_tokens(tokens):\n",
    "    return [vocab[BOS]] + tokens + [vocab[EOS]]"
   ]
  },
  {
   "cell_type": "code",
   "execution_count": 73,
   "metadata": {},
   "outputs": [
    {
     "data": {
      "text/plain": [
       "[669, 87, 5, 142, 144, 187, 41, 665, 0, 0]"
      ]
     },
     "execution_count": 73,
     "metadata": {},
     "output_type": "execute_result"
    }
   ],
   "source": [
    "pad_tokens(sample_indices)[:10]"
   ]
  },
  {
   "cell_type": "code",
   "execution_count": 52,
   "metadata": {},
   "outputs": [],
   "source": [
    "from torch.utils.data import Dataset\n",
    "from typing import Any"
   ]
  },
  {
   "cell_type": "code",
   "execution_count": 79,
   "metadata": {},
   "outputs": [],
   "source": [
    "class JigsawDataset(Dataset):\n",
    "    def __init__(self, df, is_test=False) -> None:\n",
    "        super().__init__()\n",
    "        self.df = df\n",
    "        self.is_test = is_test\n",
    "\n",
    "    def __getitem__(self, index) -> Any:\n",
    "        # Get the comment text\n",
    "        comment = self.df.comment_text.values[index]\n",
    "        # Tokenize the comment\n",
    "        tokens = tokenizer(comment)\n",
    "        # Convert tokens to indices\n",
    "        indices = vocab.lookup_indices(tokens)\n",
    "        # Pad the indices\n",
    "        indices = pad_tokens(indices)\n",
    "        # Wrap the indices with BOS and EOS tokens\n",
    "        indices = wrap_tokens(indices)\n",
    "        # Convert the indices to tensor\n",
    "        indices = torch.tensor(indices)\n",
    "        # If it is test dataset, return only indices\n",
    "        if self.is_test:\n",
    "            return indices, torch.zeros(len(target_cols))\n",
    "        # Otherwise, return indices and target\n",
    "        target = self.df[target_cols].values[index]\n",
    "        return indices, torch.tensor(target).float()\n",
    "\n",
    "    def __len__(self) -> int:\n",
    "        return len(self.df)"
   ]
  },
  {
   "cell_type": "code",
   "execution_count": 80,
   "metadata": {},
   "outputs": [],
   "source": [
    "raw_ds = JigsawDataset(df=raw_df)"
   ]
  },
  {
   "cell_type": "code",
   "execution_count": 67,
   "metadata": {},
   "outputs": [
    {
     "data": {
      "text/html": [
       "<div>\n",
       "<style scoped>\n",
       "    .dataframe tbody tr th:only-of-type {\n",
       "        vertical-align: middle;\n",
       "    }\n",
       "\n",
       "    .dataframe tbody tr th {\n",
       "        vertical-align: top;\n",
       "    }\n",
       "\n",
       "    .dataframe thead th {\n",
       "        text-align: right;\n",
       "    }\n",
       "</style>\n",
       "<table border=\"1\" class=\"dataframe\">\n",
       "  <thead>\n",
       "    <tr style=\"text-align: right;\">\n",
       "      <th></th>\n",
       "      <th>id</th>\n",
       "      <th>comment_text</th>\n",
       "      <th>toxic</th>\n",
       "      <th>severe_toxic</th>\n",
       "      <th>obscene</th>\n",
       "      <th>threat</th>\n",
       "      <th>insult</th>\n",
       "      <th>identity_hate</th>\n",
       "    </tr>\n",
       "  </thead>\n",
       "  <tbody>\n",
       "    <tr>\n",
       "      <th>0</th>\n",
       "      <td>0000997932d777bf</td>\n",
       "      <td>Explanation\\nWhy the edits made under my usern...</td>\n",
       "      <td>0</td>\n",
       "      <td>0</td>\n",
       "      <td>0</td>\n",
       "      <td>0</td>\n",
       "      <td>0</td>\n",
       "      <td>0</td>\n",
       "    </tr>\n",
       "    <tr>\n",
       "      <th>1</th>\n",
       "      <td>000103f0d9cfb60f</td>\n",
       "      <td>D'aww! He matches this background colour I'm s...</td>\n",
       "      <td>0</td>\n",
       "      <td>0</td>\n",
       "      <td>0</td>\n",
       "      <td>0</td>\n",
       "      <td>0</td>\n",
       "      <td>0</td>\n",
       "    </tr>\n",
       "    <tr>\n",
       "      <th>2</th>\n",
       "      <td>000113f07ec002fd</td>\n",
       "      <td>Hey man, I'm really not trying to edit war. It...</td>\n",
       "      <td>0</td>\n",
       "      <td>0</td>\n",
       "      <td>0</td>\n",
       "      <td>0</td>\n",
       "      <td>0</td>\n",
       "      <td>0</td>\n",
       "    </tr>\n",
       "    <tr>\n",
       "      <th>3</th>\n",
       "      <td>0001b41b1c6bb37e</td>\n",
       "      <td>\"\\nMore\\nI can't make any real suggestions on ...</td>\n",
       "      <td>0</td>\n",
       "      <td>0</td>\n",
       "      <td>0</td>\n",
       "      <td>0</td>\n",
       "      <td>0</td>\n",
       "      <td>0</td>\n",
       "    </tr>\n",
       "    <tr>\n",
       "      <th>4</th>\n",
       "      <td>0001d958c54c6e35</td>\n",
       "      <td>You, sir, are my hero. Any chance you remember...</td>\n",
       "      <td>0</td>\n",
       "      <td>0</td>\n",
       "      <td>0</td>\n",
       "      <td>0</td>\n",
       "      <td>0</td>\n",
       "      <td>0</td>\n",
       "    </tr>\n",
       "  </tbody>\n",
       "</table>\n",
       "</div>"
      ],
      "text/plain": [
       "                 id                                       comment_text  toxic  \\\n",
       "0  0000997932d777bf  Explanation\\nWhy the edits made under my usern...      0   \n",
       "1  000103f0d9cfb60f  D'aww! He matches this background colour I'm s...      0   \n",
       "2  000113f07ec002fd  Hey man, I'm really not trying to edit war. It...      0   \n",
       "3  0001b41b1c6bb37e  \"\\nMore\\nI can't make any real suggestions on ...      0   \n",
       "4  0001d958c54c6e35  You, sir, are my hero. Any chance you remember...      0   \n",
       "\n",
       "   severe_toxic  obscene  threat  insult  identity_hate  \n",
       "0             0        0       0       0              0  \n",
       "1             0        0       0       0              0  \n",
       "2             0        0       0       0              0  \n",
       "3             0        0       0       0              0  \n",
       "4             0        0       0       0              0  "
      ]
     },
     "execution_count": 67,
     "metadata": {},
     "output_type": "execute_result"
    }
   ],
   "source": [
    "raw_df.head(5)"
   ]
  },
  {
   "cell_type": "code",
   "execution_count": 81,
   "metadata": {},
   "outputs": [
    {
     "data": {
      "text/plain": [
       "(tensor([   2,  669,   87,    5,  142,  144,  187,   41,  665,    0,    0, 1289,\n",
       "           98,  331,   29,   59,    0,   11,   33,    0,    6,   63,    0,   23,\n",
       "           73,    0,  160,    8,    0,   47,  132, 1169,    0,    0,    4,   10,\n",
       "           57,   72,   11,   33,  255,    5,  371,   43,    5,   52,   40,  157,\n",
       "            8,   11,   83,    0,  101,    4,    0,    4,    0,    4,    0,    4,\n",
       "         1124,    1,    1,    1,    1,    1,    1,    1,    1,    1,    1,    1,\n",
       "            1,    1,    1,    1,    1,    1,    1,    1,    1,    1,    1,    1,\n",
       "            1,    1,    1,    1,    1,    1,    1,    1,    1,    1,    1,    1,\n",
       "            1,    1,    1,    1,    1,    1,    1,    1,    1,    1,    1,    1,\n",
       "            1,    1,    1,    1,    1,    1,    1,    1,    1,    1,    1,    1,\n",
       "            1,    1,    1,    1,    1,    1,    1,    1,    1,    1,    1,    1,\n",
       "            1,    1,    1,    1,    1,    1,    1,    1,    1,    1,    1,    1,\n",
       "            1,    1,    1,    1,    1,    3]),\n",
       " tensor([0., 0., 0., 0., 0., 0.]))"
      ]
     },
     "execution_count": 81,
     "metadata": {},
     "output_type": "execute_result"
    }
   ],
   "source": [
    "raw_ds[0]"
   ]
  },
  {
   "cell_type": "code",
   "execution_count": 82,
   "metadata": {},
   "outputs": [],
   "source": [
    "from torch.utils.data import random_split"
   ]
  },
  {
   "cell_type": "code",
   "execution_count": 83,
   "metadata": {},
   "outputs": [],
   "source": [
    "VAL_FRAC = 0.25"
   ]
  },
  {
   "cell_type": "code",
   "execution_count": 85,
   "metadata": {},
   "outputs": [],
   "source": [
    "train_ds, val_ds = random_split(\n",
    "    raw_ds, [1 - VAL_FRAC, VAL_FRAC], generator=torch.Generator().manual_seed(42)\n",
    ")"
   ]
  },
  {
   "cell_type": "code",
   "execution_count": 86,
   "metadata": {},
   "outputs": [
    {
     "data": {
      "text/plain": [
       "(119679, 39892, 159571)"
      ]
     },
     "execution_count": 86,
     "metadata": {},
     "output_type": "execute_result"
    }
   ],
   "source": [
    "len(train_ds), len(val_ds), len(raw_ds)"
   ]
  },
  {
   "cell_type": "code",
   "execution_count": 87,
   "metadata": {},
   "outputs": [],
   "source": [
    "test_ds = JigsawDataset(df=test_df, is_test=True)"
   ]
  },
  {
   "cell_type": "code",
   "execution_count": 89,
   "metadata": {},
   "outputs": [
    {
     "data": {
      "text/html": [
       "<div>\n",
       "<style scoped>\n",
       "    .dataframe tbody tr th:only-of-type {\n",
       "        vertical-align: middle;\n",
       "    }\n",
       "\n",
       "    .dataframe tbody tr th {\n",
       "        vertical-align: top;\n",
       "    }\n",
       "\n",
       "    .dataframe thead th {\n",
       "        text-align: right;\n",
       "    }\n",
       "</style>\n",
       "<table border=\"1\" class=\"dataframe\">\n",
       "  <thead>\n",
       "    <tr style=\"text-align: right;\">\n",
       "      <th></th>\n",
       "      <th>id</th>\n",
       "      <th>comment_text</th>\n",
       "    </tr>\n",
       "  </thead>\n",
       "  <tbody>\n",
       "    <tr>\n",
       "      <th>0</th>\n",
       "      <td>00001cee341fdb12</td>\n",
       "      <td>Yo bitch Ja Rule is more succesful then you'll...</td>\n",
       "    </tr>\n",
       "    <tr>\n",
       "      <th>1</th>\n",
       "      <td>0000247867823ef7</td>\n",
       "      <td>== From RfC == \\n\\n The title is fine as it is...</td>\n",
       "    </tr>\n",
       "    <tr>\n",
       "      <th>2</th>\n",
       "      <td>00013b17ad220c46</td>\n",
       "      <td>\" \\n\\n == Sources == \\n\\n * Zawe Ashton on Lap...</td>\n",
       "    </tr>\n",
       "    <tr>\n",
       "      <th>3</th>\n",
       "      <td>00017563c3f7919a</td>\n",
       "      <td>:If you have a look back at the source, the in...</td>\n",
       "    </tr>\n",
       "    <tr>\n",
       "      <th>4</th>\n",
       "      <td>00017695ad8997eb</td>\n",
       "      <td>I don't anonymously edit articles at all.</td>\n",
       "    </tr>\n",
       "  </tbody>\n",
       "</table>\n",
       "</div>"
      ],
      "text/plain": [
       "                 id                                       comment_text\n",
       "0  00001cee341fdb12  Yo bitch Ja Rule is more succesful then you'll...\n",
       "1  0000247867823ef7  == From RfC == \\n\\n The title is fine as it is...\n",
       "2  00013b17ad220c46  \" \\n\\n == Sources == \\n\\n * Zawe Ashton on Lap...\n",
       "3  00017563c3f7919a  :If you have a look back at the source, the in...\n",
       "4  00017695ad8997eb          I don't anonymously edit articles at all."
      ]
     },
     "execution_count": 89,
     "metadata": {},
     "output_type": "execute_result"
    }
   ],
   "source": [
    "test_df.head(5)"
   ]
  },
  {
   "cell_type": "code",
   "execution_count": 88,
   "metadata": {},
   "outputs": [
    {
     "data": {
      "text/plain": [
       "(tensor([   2,    0,  638,    0,  651,   14,   71,    0,   95,   12,   11,  171,\n",
       "          361,   25,    0,   91,   32,   12,   10,    0,   12, 1490,    0,    4,\n",
       "            4,    4,    8,   70,  638,    0,    0,    0,  692,    0,   10,  107,\n",
       "           12,    7,    0,   41,  421,   12,  701,    0,   48,    4,    0,  651,\n",
       "           14,   49,    0,   17,    0,  670,  441,    4,  445,    0,   15,  334,\n",
       "           23,  169,    4,   10,    0,   14,  253,    0,   64,    0,   61,   36,\n",
       "           13,    0,  173,    4,    4,    4,    0,  692,    0,  107,  228,  162,\n",
       "          492,   97,    4,    6,    1,    1,    1,    1,    1,    1,    1,    1,\n",
       "            1,    1,    1,    1,    1,    1,    1,    1,    1,    1,    1,    1,\n",
       "            1,    1,    1,    1,    1,    1,    1,    1,    1,    1,    1,    1,\n",
       "            1,    1,    1,    1,    1,    1,    1,    1,    1,    1,    1,    1,\n",
       "            1,    1,    1,    1,    1,    1,    1,    1,    1,    1,    1,    1,\n",
       "            1,    1,    1,    1,    1,    3]),\n",
       " tensor([0., 0., 0., 0., 0., 0.]))"
      ]
     },
     "execution_count": 88,
     "metadata": {},
     "output_type": "execute_result"
    }
   ],
   "source": [
    "test_ds[0]"
   ]
  },
  {
   "cell_type": "markdown",
   "metadata": {},
   "source": [
    "### Create PyTorch DataLoader objects\n"
   ]
  },
  {
   "cell_type": "code",
   "execution_count": 93,
   "metadata": {},
   "outputs": [],
   "source": [
    "import os\n",
    "from torch.utils.data import DataLoader"
   ]
  },
  {
   "cell_type": "code",
   "execution_count": 101,
   "metadata": {},
   "outputs": [],
   "source": [
    "BATCH_SIZE = 32"
   ]
  },
  {
   "cell_type": "code",
   "execution_count": 178,
   "metadata": {},
   "outputs": [],
   "source": [
    "train_dl = DataLoader(\n",
    "    train_ds,\n",
    "    batch_size=BATCH_SIZE,\n",
    "    shuffle=True,\n",
    "\tpin_memory=True,\n",
    ")\n",
    "val_dl = DataLoader(val_ds, batch_size=BATCH_SIZE * 2, pin_memory=True)\n",
    "test_dl = DataLoader(test_ds, batch_size=BATCH_SIZE * 2, pin_memory=True)"
   ]
  },
  {
   "cell_type": "code",
   "execution_count": 109,
   "metadata": {},
   "outputs": [
    {
     "name": "stdout",
     "output_type": "stream",
     "text": [
      "torch.Size([32, 150]) torch.Size([32, 6])\n"
     ]
    }
   ],
   "source": [
    "for batch in train_dl:\n",
    "    b_in, b_tgt = batch\n",
    "    print(b_in.shape, b_tgt.shape)\n",
    "    break"
   ]
  },
  {
   "cell_type": "markdown",
   "metadata": {},
   "source": [
    "## Build an RNN model\n",
    "\n",
    "1. Implement the RNN model using PyTorch\n",
    "2. Pass a batch of data into the model\n"
   ]
  },
  {
   "cell_type": "code",
   "execution_count": 112,
   "metadata": {},
   "outputs": [],
   "source": [
    "import torch.nn as nn"
   ]
  },
  {
   "cell_type": "code",
   "execution_count": 113,
   "metadata": {},
   "outputs": [],
   "source": [
    "emb_layer = nn.Embedding(\n",
    "    num_embeddings=VOCAB_SIZE,\n",
    "    embedding_dim=256,\n",
    "    padding_idx=vocab[PAD],\n",
    "    max_norm=1.0,\n",
    "    norm_type=2.0,\n",
    ")"
   ]
  },
  {
   "cell_type": "code",
   "execution_count": 127,
   "metadata": {},
   "outputs": [],
   "source": [
    "rnn_layer = nn.RNN(\n",
    "    input_size=256,\n",
    "    hidden_size=128,\n",
    "    num_layers=2,\n",
    "    batch_first=True,\n",
    "    dropout=0.2,\n",
    "    bidirectional=True,\n",
    ")"
   ]
  },
  {
   "cell_type": "code",
   "execution_count": 128,
   "metadata": {},
   "outputs": [
    {
     "name": "stdout",
     "output_type": "stream",
     "text": [
      "torch.Size([32, 150, 256])\n",
      "torch.Size([32, 150, 256]) torch.Size([4, 32, 128])\n"
     ]
    }
   ],
   "source": [
    "for batch in train_dl:\n",
    "    b_in, _ = batch\n",
    "    emb_out = emb_layer(b_in)\n",
    "    print(emb_out.shape)\n",
    "    # hn is the last hidden state => (num_layers * num_directions, batch, hidden_size)\n",
    "    rnn_out, hn = rnn_layer(emb_out)\n",
    "    print(rnn_out.shape, hn.shape)\n",
    "    break"
   ]
  },
  {
   "cell_type": "code",
   "execution_count": 129,
   "metadata": {},
   "outputs": [],
   "source": [
    "# Install PyTorch Lightning\n",
    "!pip install pytorch-lightning --quiet"
   ]
  },
  {
   "cell_type": "code",
   "execution_count": 130,
   "metadata": {},
   "outputs": [],
   "source": [
    "import pytorch_lightning as pl"
   ]
  },
  {
   "cell_type": "code",
   "execution_count": 193,
   "metadata": {},
   "outputs": [],
   "source": [
    "class JigsawModel(pl.LightningModule):\n",
    "    def __init__(self):\n",
    "        super().__init__()\n",
    "        self.emb = nn.Embedding(\n",
    "            num_embeddings=VOCAB_SIZE,\n",
    "            embedding_dim=256,\n",
    "            padding_idx=vocab[PAD],\n",
    "            max_norm=1.0,\n",
    "            norm_type=2.0,\n",
    "        )\n",
    "        self.lstm = nn.LSTM(\n",
    "            input_size=256,\n",
    "            hidden_size=128,\n",
    "            num_layers=1,\n",
    "            batch_first=True,\n",
    "            # dropout=0.2,\n",
    "            # bidirectional=True,\n",
    "        )\n",
    "        self.linear = nn.Linear(in_features=128, out_features=len(target_cols))\n",
    "        self.lr = 1e-3\n",
    "        self.validation_step_losses = []\n",
    "\n",
    "    def forward(self, x):\n",
    "        out = self.emb(x)\n",
    "        out, hn = self.lstm(out)\n",
    "        out = torch.relu(out[:, -1, :])\n",
    "        return self.linear(out)\n",
    "\n",
    "    def training_step(self, batch, batch_idx):\n",
    "        X, y = batch\n",
    "        y_hat = self(X)\n",
    "        loss = nn.BCEWithLogitsLoss()(y_hat, y)\n",
    "        return loss\n",
    "\n",
    "    def validation_step(self, batch, batch_idx):\n",
    "        X, y = batch\n",
    "        y_hat = self(X)\n",
    "        loss = nn.BCEWithLogitsLoss()(y_hat, y)\n",
    "        self.validation_step_losses.append(loss)\n",
    "        return loss.item()\n",
    "\n",
    "    def on_validation_epoch_end(self):\n",
    "        avg_loss = sum(self.validation_step_losses) / len(self.validation_step_losses)\n",
    "        self.log(\"val_loss\", avg_loss)\n",
    "        self.validation_step_losses.clear()  # free memory\n",
    "\n",
    "    def predict_step(self, batch, batch_idx, dataloader_idx=None):\n",
    "        X, _ = batch\n",
    "        y_hat = self(X)\n",
    "        return y_hat\n",
    "\n",
    "    def configure_optimizers(self):\n",
    "        return torch.optim.Adam(self.parameters(), lr=self.lr)"
   ]
  },
  {
   "cell_type": "code",
   "execution_count": 194,
   "metadata": {},
   "outputs": [],
   "source": [
    "model = JigsawModel()"
   ]
  },
  {
   "cell_type": "code",
   "execution_count": 195,
   "metadata": {},
   "outputs": [
    {
     "name": "stdout",
     "output_type": "stream",
     "text": [
      "torch.Size([32, 6])\n",
      "tensor(0.7042, grad_fn=<BinaryCrossEntropyBackward0>)\n"
     ]
    }
   ],
   "source": [
    "for batch in train_dl:\n",
    "    b_in, _ = batch\n",
    "    out = model(b_in)\n",
    "    print(out.shape)\n",
    "    probs = torch.sigmoid(out)\n",
    "    loss = nn.BCELoss()(probs, torch.zeros_like(probs))\n",
    "    print(loss)\n",
    "    break"
   ]
  },
  {
   "cell_type": "markdown",
   "metadata": {},
   "source": [
    "## Train and evaluate the model\n"
   ]
  },
  {
   "cell_type": "code",
   "execution_count": 196,
   "metadata": {},
   "outputs": [
    {
     "name": "stderr",
     "output_type": "stream",
     "text": [
      "GPU available: True (mps), used: True\n",
      "TPU available: False, using: 0 TPU cores\n",
      "HPU available: False, using: 0 HPUs\n"
     ]
    }
   ],
   "source": [
    "trainer = pl.Trainer(max_epochs=3, accelerator=\"mps\", log_every_n_steps=1)"
   ]
  },
  {
   "cell_type": "code",
   "execution_count": 197,
   "metadata": {},
   "outputs": [
    {
     "name": "stderr",
     "output_type": "stream",
     "text": [
      "/Users/macbook/.local/lib/python3.11/site-packages/pytorch_lightning/trainer/connectors/data_connector.py:424: The 'train_dataloader' does not have many workers which may be a bottleneck. Consider increasing the value of the `num_workers` argument` to `num_workers=9` in the `DataLoader` to improve performance.\n",
      "/Users/macbook/.local/lib/python3.11/site-packages/pytorch_lightning/trainer/connectors/data_connector.py:424: The 'val_dataloader' does not have many workers which may be a bottleneck. Consider increasing the value of the `num_workers` argument` to `num_workers=9` in the `DataLoader` to improve performance.\n"
     ]
    },
    {
     "data": {
      "application/vnd.jupyter.widget-view+json": {
       "model_id": "0bd69d7e5111485c932b6856227e89af",
       "version_major": 2,
       "version_minor": 0
      },
      "text/plain": [
       "Finding best initial lr:   0%|          | 0/100 [00:00<?, ?it/s]"
      ]
     },
     "metadata": {},
     "output_type": "display_data"
    },
    {
     "name": "stderr",
     "output_type": "stream",
     "text": [
      "`Trainer.fit` stopped: `max_steps=100` reached.\n",
      "Learning rate set to 0.005754399373371567\n",
      "Restoring states from the checkpoint path at /Users/macbook/tranmq/ML-DL-GenAI/NLP/.lr_find_76c92c0b-80ef-427b-a7b3-c17d82bf2f68.ckpt\n",
      "Restored all states from the checkpoint at /Users/macbook/tranmq/ML-DL-GenAI/NLP/.lr_find_76c92c0b-80ef-427b-a7b3-c17d82bf2f68.ckpt\n"
     ]
    },
    {
     "data": {
      "text/plain": [
       "<pytorch_lightning.tuner.lr_finder._LRFinder at 0x350b50110>"
      ]
     },
     "execution_count": 197,
     "metadata": {},
     "output_type": "execute_result"
    }
   ],
   "source": [
    "tuner = pl.tuner.tuning.Tuner(trainer)\n",
    "tuner.lr_find(model, train_dl, val_dl)"
   ]
  },
  {
   "cell_type": "code",
   "execution_count": 198,
   "metadata": {},
   "outputs": [
    {
     "data": {
      "text/plain": [
       "0.005754399373371567"
      ]
     },
     "execution_count": 198,
     "metadata": {},
     "output_type": "execute_result"
    }
   ],
   "source": [
    "model.lr"
   ]
  },
  {
   "cell_type": "code",
   "execution_count": 199,
   "metadata": {},
   "outputs": [
    {
     "name": "stderr",
     "output_type": "stream",
     "text": [
      "\n",
      "  | Name   | Type      | Params | Mode \n",
      "---------------------------------------------\n",
      "0 | emb    | Embedding | 384 K  | train\n",
      "1 | lstm   | LSTM      | 197 K  | train\n",
      "2 | linear | Linear    | 774    | train\n",
      "---------------------------------------------\n",
      "582 K     Trainable params\n",
      "0         Non-trainable params\n",
      "582 K     Total params\n",
      "2.330     Total estimated model params size (MB)\n"
     ]
    },
    {
     "data": {
      "application/vnd.jupyter.widget-view+json": {
       "model_id": "7898b8fa0b684ac7950d87f215c26c77",
       "version_major": 2,
       "version_minor": 0
      },
      "text/plain": [
       "Sanity Checking: |          | 0/? [00:00<?, ?it/s]"
      ]
     },
     "metadata": {},
     "output_type": "display_data"
    },
    {
     "name": "stderr",
     "output_type": "stream",
     "text": [
      "/Users/macbook/.local/lib/python3.11/site-packages/pytorch_lightning/trainer/connectors/data_connector.py:424: The 'val_dataloader' does not have many workers which may be a bottleneck. Consider increasing the value of the `num_workers` argument` to `num_workers=9` in the `DataLoader` to improve performance.\n",
      "/Users/macbook/.local/lib/python3.11/site-packages/pytorch_lightning/trainer/connectors/data_connector.py:424: The 'train_dataloader' does not have many workers which may be a bottleneck. Consider increasing the value of the `num_workers` argument` to `num_workers=9` in the `DataLoader` to improve performance.\n"
     ]
    },
    {
     "data": {
      "application/vnd.jupyter.widget-view+json": {
       "model_id": "b297c1b9f6ac45f78a5cafcfb2c2cfcb",
       "version_major": 2,
       "version_minor": 0
      },
      "text/plain": [
       "Training: |          | 0/? [00:00<?, ?it/s]"
      ]
     },
     "metadata": {},
     "output_type": "display_data"
    },
    {
     "data": {
      "application/vnd.jupyter.widget-view+json": {
       "model_id": "50eaef0bef0b472eb19a5eae753f754c",
       "version_major": 2,
       "version_minor": 0
      },
      "text/plain": [
       "Validation: |          | 0/? [00:00<?, ?it/s]"
      ]
     },
     "metadata": {},
     "output_type": "display_data"
    },
    {
     "data": {
      "application/vnd.jupyter.widget-view+json": {
       "model_id": "82fb519924b4408c9d9d18406d57edd5",
       "version_major": 2,
       "version_minor": 0
      },
      "text/plain": [
       "Validation: |          | 0/? [00:00<?, ?it/s]"
      ]
     },
     "metadata": {},
     "output_type": "display_data"
    },
    {
     "data": {
      "application/vnd.jupyter.widget-view+json": {
       "model_id": "9aa29bbc5ebd4680a59a4f937a44f842",
       "version_major": 2,
       "version_minor": 0
      },
      "text/plain": [
       "Validation: |          | 0/? [00:00<?, ?it/s]"
      ]
     },
     "metadata": {},
     "output_type": "display_data"
    },
    {
     "name": "stderr",
     "output_type": "stream",
     "text": [
      "`Trainer.fit` stopped: `max_epochs=3` reached.\n"
     ]
    }
   ],
   "source": [
    "trainer.fit(model, train_dl, val_dl)"
   ]
  },
  {
   "cell_type": "markdown",
   "metadata": {},
   "source": [
    "## Make predictions & submission"
   ]
  },
  {
   "cell_type": "code",
   "execution_count": 200,
   "metadata": {},
   "outputs": [
    {
     "data": {
      "text/html": [
       "<div>\n",
       "<style scoped>\n",
       "    .dataframe tbody tr th:only-of-type {\n",
       "        vertical-align: middle;\n",
       "    }\n",
       "\n",
       "    .dataframe tbody tr th {\n",
       "        vertical-align: top;\n",
       "    }\n",
       "\n",
       "    .dataframe thead th {\n",
       "        text-align: right;\n",
       "    }\n",
       "</style>\n",
       "<table border=\"1\" class=\"dataframe\">\n",
       "  <thead>\n",
       "    <tr style=\"text-align: right;\">\n",
       "      <th></th>\n",
       "      <th>id</th>\n",
       "      <th>comment_text</th>\n",
       "    </tr>\n",
       "  </thead>\n",
       "  <tbody>\n",
       "    <tr>\n",
       "      <th>0</th>\n",
       "      <td>00001cee341fdb12</td>\n",
       "      <td>Yo bitch Ja Rule is more succesful then you'll...</td>\n",
       "    </tr>\n",
       "    <tr>\n",
       "      <th>1</th>\n",
       "      <td>0000247867823ef7</td>\n",
       "      <td>== From RfC == \\n\\n The title is fine as it is...</td>\n",
       "    </tr>\n",
       "    <tr>\n",
       "      <th>2</th>\n",
       "      <td>00013b17ad220c46</td>\n",
       "      <td>\" \\n\\n == Sources == \\n\\n * Zawe Ashton on Lap...</td>\n",
       "    </tr>\n",
       "    <tr>\n",
       "      <th>3</th>\n",
       "      <td>00017563c3f7919a</td>\n",
       "      <td>:If you have a look back at the source, the in...</td>\n",
       "    </tr>\n",
       "    <tr>\n",
       "      <th>4</th>\n",
       "      <td>00017695ad8997eb</td>\n",
       "      <td>I don't anonymously edit articles at all.</td>\n",
       "    </tr>\n",
       "  </tbody>\n",
       "</table>\n",
       "</div>"
      ],
      "text/plain": [
       "                 id                                       comment_text\n",
       "0  00001cee341fdb12  Yo bitch Ja Rule is more succesful then you'll...\n",
       "1  0000247867823ef7  == From RfC == \\n\\n The title is fine as it is...\n",
       "2  00013b17ad220c46  \" \\n\\n == Sources == \\n\\n * Zawe Ashton on Lap...\n",
       "3  00017563c3f7919a  :If you have a look back at the source, the in...\n",
       "4  00017695ad8997eb          I don't anonymously edit articles at all."
      ]
     },
     "execution_count": 200,
     "metadata": {},
     "output_type": "execute_result"
    }
   ],
   "source": [
    "test_df.head(5)"
   ]
  },
  {
   "cell_type": "code",
   "execution_count": 202,
   "metadata": {},
   "outputs": [
    {
     "name": "stdout",
     "output_type": "stream",
     "text": [
      "torch.Size([64, 6])\n"
     ]
    }
   ],
   "source": [
    "for batch in test_dl:\n",
    "\tb_in, _ = batch\n",
    "\tout = model(b_in)\n",
    "\tprint(out.shape)\n",
    "\tbreak"
   ]
  },
  {
   "cell_type": "code",
   "execution_count": 203,
   "metadata": {},
   "outputs": [
    {
     "name": "stderr",
     "output_type": "stream",
     "text": [
      "/Users/macbook/.local/lib/python3.11/site-packages/pytorch_lightning/trainer/connectors/data_connector.py:424: The 'predict_dataloader' does not have many workers which may be a bottleneck. Consider increasing the value of the `num_workers` argument` to `num_workers=9` in the `DataLoader` to improve performance.\n"
     ]
    },
    {
     "data": {
      "application/vnd.jupyter.widget-view+json": {
       "model_id": "377c7fdac7074961b4ff59597a409b0e",
       "version_major": 2,
       "version_minor": 0
      },
      "text/plain": [
       "Predicting: |          | 0/? [00:00<?, ?it/s]"
      ]
     },
     "metadata": {},
     "output_type": "display_data"
    }
   ],
   "source": [
    "test_preds = trainer.predict(model, test_dl)"
   ]
  },
  {
   "cell_type": "code",
   "execution_count": 230,
   "metadata": {},
   "outputs": [],
   "source": [
    "test_probs = []\n",
    "for pred in test_preds:\n",
    "\ttest_probs.append(torch.sigmoid(pred))"
   ]
  },
  {
   "cell_type": "code",
   "execution_count": 231,
   "metadata": {},
   "outputs": [
    {
     "data": {
      "text/plain": [
       "(153164, 6)"
      ]
     },
     "execution_count": 231,
     "metadata": {},
     "output_type": "execute_result"
    }
   ],
   "source": [
    "test_probs = torch.cat(test_probs, dim=0).detach().cpu().numpy()\n",
    "test_probs.shape"
   ]
  },
  {
   "cell_type": "code",
   "execution_count": 233,
   "metadata": {},
   "outputs": [],
   "source": [
    "sub_df[target_cols] = test_probs"
   ]
  },
  {
   "cell_type": "code",
   "execution_count": 235,
   "metadata": {},
   "outputs": [],
   "source": [
    "sub_df.to_csv(DATA_DIR + \"/submission.csv\", index=False)"
   ]
  },
  {
   "cell_type": "code",
   "execution_count": 236,
   "metadata": {},
   "outputs": [
    {
     "name": "stdout",
     "output_type": "stream",
     "text": [
      "id,toxic,severe_toxic,obscene,threat,insult,identity_hate\n",
      "00001cee341fdb12,0.9929817,0.3322756,0.96769965,0.023225563,0.8877563,0.11585725\n",
      "0000247867823ef7,0.007570883,1.7184737e-05,0.0015506027,8.4164814e-05,0.0023269686,0.00016333896\n",
      "00013b17ad220c46,0.010984155,4.0363506e-05,0.0020591326,0.00013076756,0.0034054886,0.00028812917\n",
      "00017563c3f7919a,0.0071801036,1.7057218e-05,0.0014658037,9.304003e-05,0.0022347346,0.00015304318\n",
      "00017695ad8997eb,0.025553629,0.00016132137,0.004577222,0.00036859862,0.007344992,0.0007541548\n",
      "0001ea8717f6de06,0.011160872,7.141404e-05,0.002954982,0.0003499975,0.004084922,0.00039900767\n",
      "00024115d4cbde0f,0.0060905037,1.4723866e-05,0.0011405837,7.259435e-05,0.0019417846,0.00013223552\n",
      "000247e83dcc1211,0.21870257,0.009367879,0.06393255,0.011204858,0.07778899,0.016418695\n",
      "00025358d4737918,0.0049976967,1.3505198e-05,0.0010186441,6.211136e-05,0.001696165,0.00012199043\n"
     ]
    }
   ],
   "source": [
    "!head $DATA_DIR/submission.csv"
   ]
  },
  {
   "cell_type": "code",
   "execution_count": 259,
   "metadata": {},
   "outputs": [
    {
     "data": {
      "text/html": [
       "<div>\n",
       "<style scoped>\n",
       "    .dataframe tbody tr th:only-of-type {\n",
       "        vertical-align: middle;\n",
       "    }\n",
       "\n",
       "    .dataframe tbody tr th {\n",
       "        vertical-align: top;\n",
       "    }\n",
       "\n",
       "    .dataframe thead th {\n",
       "        text-align: right;\n",
       "    }\n",
       "</style>\n",
       "<table border=\"1\" class=\"dataframe\">\n",
       "  <thead>\n",
       "    <tr style=\"text-align: right;\">\n",
       "      <th></th>\n",
       "      <th>id</th>\n",
       "      <th>comment_text</th>\n",
       "      <th>toxic</th>\n",
       "      <th>severe_toxic</th>\n",
       "      <th>obscene</th>\n",
       "      <th>threat</th>\n",
       "      <th>insult</th>\n",
       "      <th>identity_hate</th>\n",
       "    </tr>\n",
       "  </thead>\n",
       "  <tbody>\n",
       "    <tr>\n",
       "      <th>44629</th>\n",
       "      <td>774600da7108457c</td>\n",
       "      <td>Hi Friend! \\n\\nWill you be my wikipedia mentor?</td>\n",
       "      <td>0</td>\n",
       "      <td>0</td>\n",
       "      <td>0</td>\n",
       "      <td>0</td>\n",
       "      <td>0</td>\n",
       "      <td>0</td>\n",
       "    </tr>\n",
       "    <tr>\n",
       "      <th>1550</th>\n",
       "      <td>042c88029647f67d</td>\n",
       "      <td>Ahh, I am glad to say that I have worked out t...</td>\n",
       "      <td>0</td>\n",
       "      <td>0</td>\n",
       "      <td>0</td>\n",
       "      <td>0</td>\n",
       "      <td>0</td>\n",
       "      <td>0</td>\n",
       "    </tr>\n",
       "    <tr>\n",
       "      <th>86320</th>\n",
       "      <td>e6e2c37e52347437</td>\n",
       "      <td>I've added in some replies. Thanks for the hel...</td>\n",
       "      <td>0</td>\n",
       "      <td>0</td>\n",
       "      <td>0</td>\n",
       "      <td>0</td>\n",
       "      <td>0</td>\n",
       "      <td>0</td>\n",
       "    </tr>\n",
       "    <tr>\n",
       "      <th>121923</th>\n",
       "      <td>8c447ec9f6b550bd</td>\n",
       "      <td>\"\\nIn fact, I think we can substantially curta...</td>\n",
       "      <td>0</td>\n",
       "      <td>0</td>\n",
       "      <td>0</td>\n",
       "      <td>0</td>\n",
       "      <td>0</td>\n",
       "      <td>0</td>\n",
       "    </tr>\n",
       "    <tr>\n",
       "      <th>133164</th>\n",
       "      <td>c86e6ecc8340b2de</td>\n",
       "      <td>I'm afraid, this is not eligible for DYK, beca...</td>\n",
       "      <td>0</td>\n",
       "      <td>0</td>\n",
       "      <td>0</td>\n",
       "      <td>0</td>\n",
       "      <td>0</td>\n",
       "      <td>0</td>\n",
       "    </tr>\n",
       "    <tr>\n",
       "      <th>151626</th>\n",
       "      <td>801b45543473f467</td>\n",
       "      <td>\"\\n\\n Military history WikiProject Newsletter,...</td>\n",
       "      <td>0</td>\n",
       "      <td>0</td>\n",
       "      <td>0</td>\n",
       "      <td>0</td>\n",
       "      <td>0</td>\n",
       "      <td>0</td>\n",
       "    </tr>\n",
       "    <tr>\n",
       "      <th>36393</th>\n",
       "      <td>6136aae4944b9004</td>\n",
       "      <td>\"\\n\\n Sorry and =\\nSorry about calling you an ...</td>\n",
       "      <td>0</td>\n",
       "      <td>0</td>\n",
       "      <td>0</td>\n",
       "      <td>0</td>\n",
       "      <td>0</td>\n",
       "      <td>0</td>\n",
       "    </tr>\n",
       "    <tr>\n",
       "      <th>66380</th>\n",
       "      <td>b198fbb4be221c24</td>\n",
       "      <td>I think this page should discuss some of the i...</td>\n",
       "      <td>0</td>\n",
       "      <td>0</td>\n",
       "      <td>0</td>\n",
       "      <td>0</td>\n",
       "      <td>0</td>\n",
       "      <td>0</td>\n",
       "    </tr>\n",
       "    <tr>\n",
       "      <th>23074</th>\n",
       "      <td>3cfe953c66ddefc9</td>\n",
       "      <td>The poor grade his son got in elementery mathe...</td>\n",
       "      <td>0</td>\n",
       "      <td>0</td>\n",
       "      <td>0</td>\n",
       "      <td>0</td>\n",
       "      <td>0</td>\n",
       "      <td>0</td>\n",
       "    </tr>\n",
       "    <tr>\n",
       "      <th>63111</th>\n",
       "      <td>a8d972eace59cf9a</td>\n",
       "      <td>vis-a-vis the Sabbath</td>\n",
       "      <td>0</td>\n",
       "      <td>0</td>\n",
       "      <td>0</td>\n",
       "      <td>0</td>\n",
       "      <td>0</td>\n",
       "      <td>0</td>\n",
       "    </tr>\n",
       "  </tbody>\n",
       "</table>\n",
       "</div>"
      ],
      "text/plain": [
       "                      id                                       comment_text  \\\n",
       "44629   774600da7108457c    Hi Friend! \\n\\nWill you be my wikipedia mentor?   \n",
       "1550    042c88029647f67d  Ahh, I am glad to say that I have worked out t...   \n",
       "86320   e6e2c37e52347437  I've added in some replies. Thanks for the hel...   \n",
       "121923  8c447ec9f6b550bd  \"\\nIn fact, I think we can substantially curta...   \n",
       "133164  c86e6ecc8340b2de  I'm afraid, this is not eligible for DYK, beca...   \n",
       "151626  801b45543473f467  \"\\n\\n Military history WikiProject Newsletter,...   \n",
       "36393   6136aae4944b9004  \"\\n\\n Sorry and =\\nSorry about calling you an ...   \n",
       "66380   b198fbb4be221c24  I think this page should discuss some of the i...   \n",
       "23074   3cfe953c66ddefc9  The poor grade his son got in elementery mathe...   \n",
       "63111   a8d972eace59cf9a                              vis-a-vis the Sabbath   \n",
       "\n",
       "        toxic  severe_toxic  obscene  threat  insult  identity_hate  \n",
       "44629       0             0        0       0       0              0  \n",
       "1550        0             0        0       0       0              0  \n",
       "86320       0             0        0       0       0              0  \n",
       "121923      0             0        0       0       0              0  \n",
       "133164      0             0        0       0       0              0  \n",
       "151626      0             0        0       0       0              0  \n",
       "36393       0             0        0       0       0              0  \n",
       "66380       0             0        0       0       0              0  \n",
       "23074       0             0        0       0       0              0  \n",
       "63111       0             0        0       0       0              0  "
      ]
     },
     "execution_count": 259,
     "metadata": {},
     "output_type": "execute_result"
    }
   ],
   "source": [
    "sample_df = raw_df.sample(10)\n",
    "sample_df"
   ]
  },
  {
   "cell_type": "code",
   "execution_count": 260,
   "metadata": {},
   "outputs": [],
   "source": [
    "sample_ds = JigsawDataset(df=sample_df)"
   ]
  },
  {
   "cell_type": "code",
   "execution_count": 261,
   "metadata": {},
   "outputs": [],
   "source": [
    "sample_dl = DataLoader(sample_ds, batch_size=10)"
   ]
  },
  {
   "cell_type": "code",
   "execution_count": 265,
   "metadata": {},
   "outputs": [
    {
     "name": "stderr",
     "output_type": "stream",
     "text": [
      "/Users/macbook/.local/lib/python3.11/site-packages/pytorch_lightning/trainer/connectors/data_connector.py:424: The 'predict_dataloader' does not have many workers which may be a bottleneck. Consider increasing the value of the `num_workers` argument` to `num_workers=9` in the `DataLoader` to improve performance.\n"
     ]
    },
    {
     "data": {
      "application/vnd.jupyter.widget-view+json": {
       "model_id": "8aa0ff6b987244c09ba0bc1c854ba8e0",
       "version_major": 2,
       "version_minor": 0
      },
      "text/plain": [
       "Predicting: |          | 0/? [00:00<?, ?it/s]"
      ]
     },
     "metadata": {},
     "output_type": "display_data"
    }
   ],
   "source": [
    "sample_preds = trainer.predict(model, sample_dl)\n",
    "sample_probs = torch.cat([torch.sigmoid(pred) for pred in sample_preds], dim=0).detach().cpu().numpy() # need to call cat to concatenate the list of tensors because preds is a list of tensors of shape (batch_size, num_classes) and we need to concatenate them along the batch_size dimension to get the probabilities of shape (num_samples, num_classes)\n",
    "sample_probs = (sample_probs > 0.5).astype(int)"
   ]
  },
  {
   "cell_type": "code",
   "execution_count": 266,
   "metadata": {},
   "outputs": [
    {
     "data": {
      "text/html": [
       "<div>\n",
       "<style scoped>\n",
       "    .dataframe tbody tr th:only-of-type {\n",
       "        vertical-align: middle;\n",
       "    }\n",
       "\n",
       "    .dataframe tbody tr th {\n",
       "        vertical-align: top;\n",
       "    }\n",
       "\n",
       "    .dataframe thead th {\n",
       "        text-align: right;\n",
       "    }\n",
       "</style>\n",
       "<table border=\"1\" class=\"dataframe\">\n",
       "  <thead>\n",
       "    <tr style=\"text-align: right;\">\n",
       "      <th></th>\n",
       "      <th>id</th>\n",
       "      <th>comment_text</th>\n",
       "      <th>toxic</th>\n",
       "      <th>severe_toxic</th>\n",
       "      <th>obscene</th>\n",
       "      <th>threat</th>\n",
       "      <th>insult</th>\n",
       "      <th>identity_hate</th>\n",
       "    </tr>\n",
       "  </thead>\n",
       "  <tbody>\n",
       "    <tr>\n",
       "      <th>44629</th>\n",
       "      <td>774600da7108457c</td>\n",
       "      <td>Hi Friend! \\n\\nWill you be my wikipedia mentor?</td>\n",
       "      <td>0</td>\n",
       "      <td>0</td>\n",
       "      <td>0</td>\n",
       "      <td>0</td>\n",
       "      <td>0</td>\n",
       "      <td>0</td>\n",
       "    </tr>\n",
       "    <tr>\n",
       "      <th>1550</th>\n",
       "      <td>042c88029647f67d</td>\n",
       "      <td>Ahh, I am glad to say that I have worked out t...</td>\n",
       "      <td>0</td>\n",
       "      <td>0</td>\n",
       "      <td>0</td>\n",
       "      <td>0</td>\n",
       "      <td>0</td>\n",
       "      <td>0</td>\n",
       "    </tr>\n",
       "    <tr>\n",
       "      <th>86320</th>\n",
       "      <td>e6e2c37e52347437</td>\n",
       "      <td>I've added in some replies. Thanks for the hel...</td>\n",
       "      <td>0</td>\n",
       "      <td>0</td>\n",
       "      <td>0</td>\n",
       "      <td>0</td>\n",
       "      <td>0</td>\n",
       "      <td>0</td>\n",
       "    </tr>\n",
       "    <tr>\n",
       "      <th>121923</th>\n",
       "      <td>8c447ec9f6b550bd</td>\n",
       "      <td>\"\\nIn fact, I think we can substantially curta...</td>\n",
       "      <td>0</td>\n",
       "      <td>0</td>\n",
       "      <td>0</td>\n",
       "      <td>0</td>\n",
       "      <td>0</td>\n",
       "      <td>0</td>\n",
       "    </tr>\n",
       "    <tr>\n",
       "      <th>133164</th>\n",
       "      <td>c86e6ecc8340b2de</td>\n",
       "      <td>I'm afraid, this is not eligible for DYK, beca...</td>\n",
       "      <td>0</td>\n",
       "      <td>0</td>\n",
       "      <td>0</td>\n",
       "      <td>0</td>\n",
       "      <td>0</td>\n",
       "      <td>0</td>\n",
       "    </tr>\n",
       "    <tr>\n",
       "      <th>151626</th>\n",
       "      <td>801b45543473f467</td>\n",
       "      <td>\"\\n\\n Military history WikiProject Newsletter,...</td>\n",
       "      <td>0</td>\n",
       "      <td>0</td>\n",
       "      <td>0</td>\n",
       "      <td>0</td>\n",
       "      <td>0</td>\n",
       "      <td>0</td>\n",
       "    </tr>\n",
       "    <tr>\n",
       "      <th>36393</th>\n",
       "      <td>6136aae4944b9004</td>\n",
       "      <td>\"\\n\\n Sorry and =\\nSorry about calling you an ...</td>\n",
       "      <td>0</td>\n",
       "      <td>0</td>\n",
       "      <td>0</td>\n",
       "      <td>0</td>\n",
       "      <td>0</td>\n",
       "      <td>0</td>\n",
       "    </tr>\n",
       "    <tr>\n",
       "      <th>66380</th>\n",
       "      <td>b198fbb4be221c24</td>\n",
       "      <td>I think this page should discuss some of the i...</td>\n",
       "      <td>0</td>\n",
       "      <td>0</td>\n",
       "      <td>0</td>\n",
       "      <td>0</td>\n",
       "      <td>0</td>\n",
       "      <td>0</td>\n",
       "    </tr>\n",
       "    <tr>\n",
       "      <th>23074</th>\n",
       "      <td>3cfe953c66ddefc9</td>\n",
       "      <td>The poor grade his son got in elementery mathe...</td>\n",
       "      <td>0</td>\n",
       "      <td>0</td>\n",
       "      <td>0</td>\n",
       "      <td>0</td>\n",
       "      <td>0</td>\n",
       "      <td>0</td>\n",
       "    </tr>\n",
       "    <tr>\n",
       "      <th>63111</th>\n",
       "      <td>a8d972eace59cf9a</td>\n",
       "      <td>vis-a-vis the Sabbath</td>\n",
       "      <td>0</td>\n",
       "      <td>0</td>\n",
       "      <td>0</td>\n",
       "      <td>0</td>\n",
       "      <td>0</td>\n",
       "      <td>0</td>\n",
       "    </tr>\n",
       "  </tbody>\n",
       "</table>\n",
       "</div>"
      ],
      "text/plain": [
       "                      id                                       comment_text  \\\n",
       "44629   774600da7108457c    Hi Friend! \\n\\nWill you be my wikipedia mentor?   \n",
       "1550    042c88029647f67d  Ahh, I am glad to say that I have worked out t...   \n",
       "86320   e6e2c37e52347437  I've added in some replies. Thanks for the hel...   \n",
       "121923  8c447ec9f6b550bd  \"\\nIn fact, I think we can substantially curta...   \n",
       "133164  c86e6ecc8340b2de  I'm afraid, this is not eligible for DYK, beca...   \n",
       "151626  801b45543473f467  \"\\n\\n Military history WikiProject Newsletter,...   \n",
       "36393   6136aae4944b9004  \"\\n\\n Sorry and =\\nSorry about calling you an ...   \n",
       "66380   b198fbb4be221c24  I think this page should discuss some of the i...   \n",
       "23074   3cfe953c66ddefc9  The poor grade his son got in elementery mathe...   \n",
       "63111   a8d972eace59cf9a                              vis-a-vis the Sabbath   \n",
       "\n",
       "        toxic  severe_toxic  obscene  threat  insult  identity_hate  \n",
       "44629       0             0        0       0       0              0  \n",
       "1550        0             0        0       0       0              0  \n",
       "86320       0             0        0       0       0              0  \n",
       "121923      0             0        0       0       0              0  \n",
       "133164      0             0        0       0       0              0  \n",
       "151626      0             0        0       0       0              0  \n",
       "36393       0             0        0       0       0              0  \n",
       "66380       0             0        0       0       0              0  \n",
       "23074       0             0        0       0       0              0  \n",
       "63111       0             0        0       0       0              0  "
      ]
     },
     "execution_count": 266,
     "metadata": {},
     "output_type": "execute_result"
    }
   ],
   "source": [
    "sample_df[target_cols] = sample_probs\n",
    "sample_df"
   ]
  }
 ],
 "metadata": {
  "kernelspec": {
   "display_name": "Python 3",
   "language": "python",
   "name": "python3"
  },
  "language_info": {
   "codemirror_mode": {
    "name": "ipython",
    "version": 3
   },
   "file_extension": ".py",
   "mimetype": "text/x-python",
   "name": "python",
   "nbconvert_exporter": "python",
   "pygments_lexer": "ipython3",
   "version": "3.11.0"
  }
 },
 "nbformat": 4,
 "nbformat_minor": 2
}
